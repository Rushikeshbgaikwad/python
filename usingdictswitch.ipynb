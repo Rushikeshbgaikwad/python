{
  "nbformat": 4,
  "nbformat_minor": 0,
  "metadata": {
    "colab": {
      "name": "usingdictswitch",
      "provenance": [],
      "include_colab_link": true
    },
    "kernelspec": {
      "name": "python3",
      "display_name": "Python 3"
    },
    "language_info": {
      "name": "python"
    }
  },
  "cells": [
    {
      "cell_type": "markdown",
      "metadata": {
        "id": "view-in-github",
        "colab_type": "text"
      },
      "source": [
        "<a href=\"https://colab.research.google.com/github/Rushikeshbgaikwad/python/blob/main/usingdictswitch.ipynb\" target=\"_parent\"><img src=\"https://colab.research.google.com/assets/colab-badge.svg\" alt=\"Open In Colab\"/></a>"
      ]
    },
    {
      "cell_type": "code",
      "execution_count": 1,
      "metadata": {
        "colab": {
          "base_uri": "https://localhost:8080/"
        },
        "id": "CK3kjxIlmmx2",
        "outputId": "be9f68e5-4faa-4fc8-a1e7-ef1f90d68adf"
      },
      "outputs": [
        {
          "output_type": "stream",
          "name": "stdout",
          "text": [
            "thursday\n",
            "Incorrect day\n"
          ]
        }
      ],
      "source": [
        "# Implement Python Switch Case Statement using Dictionary\n",
        "\n",
        "def monday():\n",
        "    return \"monday\"\n",
        "def tuesday():\n",
        "    return \"tuesday\"\n",
        "def wednesday():\n",
        "    return \"wednesday\"\n",
        "def thursday():\n",
        "    return \"thursday\"\n",
        "def friday():\n",
        "    return \"friday\"\n",
        "def saturday():\n",
        "    return \"saturday\"\n",
        "def sunday():\n",
        "    return \"sunday\"\n",
        "def default():\n",
        "    return \"Incorrect day\"\n",
        "\n",
        "switcher = {\n",
        "    1: monday,\n",
        "    2: tuesday,\n",
        "    3: wednesday,\n",
        "    4: thursday,\n",
        "    5: friday,\n",
        "    6: saturday,\n",
        "    7: sunday\n",
        "    }\n",
        "\n",
        "def switch(dayOfWeek):\n",
        "    return switcher.get(dayOfWeek, default)()\n",
        "\n",
        "print(switch(4))\n",
        "print(switch(8))"
      ]
    }
  ]
}