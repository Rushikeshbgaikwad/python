{
  "nbformat": 4,
  "nbformat_minor": 0,
  "metadata": {
    "colab": {
      "name": "replacementofswitch",
      "provenance": [],
      "include_colab_link": true
    },
    "kernelspec": {
      "name": "python3",
      "display_name": "Python 3"
    },
    "language_info": {
      "name": "python"
    }
  },
  "cells": [
    {
      "cell_type": "markdown",
      "metadata": {
        "id": "view-in-github",
        "colab_type": "text"
      },
      "source": [
        "<a href=\"https://colab.research.google.com/github/Rushikeshbgaikwad/python/blob/main/replacementofswitch.ipynb\" target=\"_parent\"><img src=\"https://colab.research.google.com/assets/colab-badge.svg\" alt=\"Open In Colab\"/></a>"
      ]
    },
    {
      "cell_type": "code",
      "execution_count": 2,
      "metadata": {
        "colab": {
          "base_uri": "https://localhost:8080/"
        },
        "id": "VRN8Cu14lGa5",
        "outputId": "1f7d314d-1cd9-49f4-c976-708eec7d873c"
      },
      "outputs": [
        {
          "output_type": "stream",
          "name": "stdout",
          "text": [
            "one\n"
          ]
        }
      ],
      "source": [
        "'''what is the replacement of Switch Case in Python?\n",
        "\n",
        "Unlike every other programming language we have used before, Python does not have a switch or case statement. \n",
        "To get around this fact, we use dictionary mapping.'''\n",
        "# Function to convert number into string\n",
        "# Switcher is dictionary data type here\n",
        "def numbers_to_strings(argument):\n",
        "    switcher = {\n",
        "        0: \"zero\",\n",
        "        1: \"one\",\n",
        "        2: \"two\",\n",
        "    }\n",
        " \n",
        "    # get() method of dictionary data type returns\n",
        "    # value of passed argument if it is present\n",
        "    # in dictionary otherwise second argument will\n",
        "    # be assigned as default value of passed argument\n",
        "    return switcher.get(argument, \"nothing\")\n",
        " \n",
        "# Driver program\n",
        "if __name__ == \"__main__\":\n",
        "    argument=1\n",
        "    print (numbers_to_strings(argument))"
      ]
    }
  ]
}