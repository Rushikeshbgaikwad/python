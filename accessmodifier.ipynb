{
  "cells": [
    {
      "cell_type": "markdown",
      "metadata": {
        "id": "view-in-github",
        "colab_type": "text"
      },
      "source": [
        "<a href=\"https://colab.research.google.com/github/Rushikeshbgaikwad/python/blob/main/accessmodifier.ipynb\" target=\"_parent\"><img src=\"https://colab.research.google.com/assets/colab-badge.svg\" alt=\"Open In Colab\"/></a>"
      ]
    },
    {
      "cell_type": "code",
      "execution_count": null,
      "metadata": {
        "colab": {
          "background_save": true
        },
        "id": "o6b6I6f2sFP5"
      },
      "outputs": [],
      "source": [
        "##public \n",
        "class Car():\n",
        "     def __init__(self,windows,doors,enginetype):\n",
        "        self.windows=windows\n",
        "        self.doors=doors\n",
        "        self.enginetype=enginetype"
      ]
    },
    {
      "cell_type": "code",
      "execution_count": null,
      "metadata": {
        "id": "P5PCBeu3x2yW"
      },
      "outputs": [],
      "source": [
        "class Car():\n",
        "    def __init__(self,windows,doors,enginetype):\n",
        "      self._windows=windows\n",
        "      self._doors=doors\n",
        "      self._enginetype=enginetype"
      ]
    },
    {
      "cell_type": "code",
      "execution_count": null,
      "metadata": {
        "id": "FI4YcqPgwEWf"
      },
      "outputs": [],
      "source": [
        "class Truck(Car):\n",
        "    def __init__(self,windows,doors,enginetype,hoursepower):\n",
        "        super().__init__(windows,doors,enginetype)\n",
        "        self.hoursepower=hoursepower\n"
      ]
    },
    {
      "cell_type": "code",
      "execution_count": null,
      "metadata": {
        "id": "8c5lCq01xCru"
      },
      "outputs": [],
      "source": [
        "truck=Truck(4,4,'Diesel',4000)\n",
        "dir(truck)"
      ]
    },
    {
      "cell_type": "code",
      "execution_count": null,
      "metadata": {
        "colab": {
          "base_uri": "https://localhost:8080/"
        },
        "id": "l37639LSyHk4",
        "outputId": "8e771953-f605-488e-cb8f-f558ee6d9202"
      },
      "outputs": [
        {
          "data": {
            "text/plain": [
              "4"
            ]
          },
          "execution_count": 21,
          "metadata": {},
          "output_type": "execute_result"
        }
      ],
      "source": [
        "truck._doors"
      ]
    },
    {
      "cell_type": "code",
      "execution_count": null,
      "metadata": {
        "id": "DN5pQ4RduHPd"
      },
      "outputs": [],
      "source": [
        "audi=Car(4,5,'Diesel')\n",
        "audi\n",
        "dir(audi)"
      ]
    },
    {
      "cell_type": "code",
      "execution_count": 2,
      "metadata": {
        "id": "yM4RONkWuz66"
      },
      "outputs": [],
      "source": [
        "##All the class variables are protected\n",
        "##protected variables are accessible only when the child class is present\n",
        "##in protected we can access variable or modify only in child class\n",
        "class Car():\n",
        "    def __init__(self,windows,doors,enginetype):\n",
        "      self._windows=windows\n",
        "      self._doors=doors\n",
        "      self._enginetype=enginetype"
      ]
    },
    {
      "cell_type": "code",
      "execution_count": null,
      "metadata": {
        "id": "CrUFMueNvRHb"
      },
      "outputs": [],
      "source": [
        "audi=Car(4,4,'Diesel')\n",
        "audi.windows=5\n",
        "audi.windows\n",
        "dir(audi)"
      ]
    },
    {
      "cell_type": "code",
      "execution_count": 7,
      "metadata": {
        "id": "d-QLS1Xhvmb-"
      },
      "outputs": [],
      "source": [
        "##private variables\n",
        "##these variable can't be accessed or modified outside the class\n",
        "class Car():\n",
        "     def __init__(self,windows,doors,enginetype):\n",
        "        self.__windows=windows\n",
        "        self.__doors=doors\n",
        "        self.__enginetype=enginetype"
      ]
    },
    {
      "cell_type": "code",
      "execution_count": null,
      "metadata": {
        "id": "IZvyb9juzaNH"
      },
      "outputs": [],
      "source": [
        ""
      ]
    },
    {
      "cell_type": "code",
      "execution_count": null,
      "metadata": {
        "id": "dxglppOiy1gG"
      },
      "outputs": [],
      "source": [
        "audi=Car(4,4,'Diesel')\n",
        "audi\n",
        "dir(audi)"
      ]
    },
    {
      "cell_type": "code",
      "execution_count": 9,
      "metadata": {
        "colab": {
          "base_uri": "https://localhost:8080/"
        },
        "id": "lviKXXjgzcfD",
        "outputId": "5da9a364-b4af-4052-f983-b9078646c2da"
      },
      "outputs": [
        {
          "output_type": "execute_result",
          "data": {
            "text/plain": [
              "5"
            ]
          },
          "metadata": {},
          "execution_count": 9
        }
      ],
      "source": [
        "audi._Car__doors=5\n",
        "audi._Car__doors"
      ]
    },
    {
      "cell_type": "code",
      "execution_count": null,
      "metadata": {
        "id": "87P0Ep8ZH4qL"
      },
      "outputs": [],
      "source": [
        "dir(audi) "
      ]
    },
    {
      "cell_type": "code",
      "execution_count": null,
      "metadata": {
        "colab": {
          "base_uri": "https://localhost:8080/"
        },
        "id": "AfU8jfEhILED",
        "outputId": "77c04c39-2006-495a-c1f6-150871086427"
      },
      "outputs": [
        {
          "data": {
            "text/plain": [
              "7"
            ]
          },
          "execution_count": 7,
          "metadata": {},
          "output_type": "execute_result"
        }
      ],
      "source": [
        "audi._Car__doors=7\n",
        "audi._Car__doors"
      ]
    }
  ],
  "metadata": {
    "colab": {
      "name": "accessmodifier",
      "provenance": [],
      "include_colab_link": true
    },
    "kernelspec": {
      "display_name": "Python 3",
      "name": "python3"
    },
    "language_info": {
      "name": "python"
    }
  },
  "nbformat": 4,
  "nbformat_minor": 0
}