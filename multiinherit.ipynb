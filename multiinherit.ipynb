{
  "nbformat": 4,
  "nbformat_minor": 0,
  "metadata": {
    "colab": {
      "name": "multiinherit.ipynb",
      "provenance": [],
      "include_colab_link": true
    },
    "kernelspec": {
      "name": "python3",
      "display_name": "Python 3"
    },
    "language_info": {
      "name": "python"
    }
  },
  "cells": [
    {
      "cell_type": "markdown",
      "metadata": {
        "id": "view-in-github",
        "colab_type": "text"
      },
      "source": [
        "<a href=\"https://colab.research.google.com/github/Rushikeshbgaikwad/python/blob/main/multiinherit.ipynb\" target=\"_parent\"><img src=\"https://colab.research.google.com/assets/colab-badge.svg\" alt=\"Open In Colab\"/></a>"
      ]
    },
    {
      "cell_type": "code",
      "execution_count": null,
      "metadata": {
        "colab": {
          "base_uri": "https://localhost:8080/"
        },
        "id": "ha1rwSUG7BzB",
        "outputId": "95dc928e-d9fd-4f74-9fa5-41d6ce0cc0fd"
      },
      "outputs": [
        {
          "output_type": "stream",
          "name": "stdout",
          "text": [
            "Amazon is an Online Ecommerce Store popularity of 100\n",
            "Ebay is an Online Store popularity of 70\n",
            "OLX is an Online Buy Sell Store popularity of 60\n"
          ]
        }
      ],
      "source": [
        "\n",
        "'''Syntax_of_multilevel_inheritance\n",
        "\n",
        "class A:\n",
        "    pass\n",
        "\n",
        "class B(A):\n",
        "    pass\n",
        "\n",
        "class C(B):\n",
        "    pass\n",
        "\n",
        "obj = C()'''\n",
        "\n",
        "#example_of_multilevel_inheritance\n",
        "\n",
        "class Brands:                      #parent_class\n",
        "    brand_name_1 = \"Amazon\"\n",
        "    brand_name_2 = \"Ebay\"\n",
        "    brand_name_3 = \"OLX\"\n",
        "    \n",
        "class Products(Brands):            #child_class\n",
        "    prod_1 = \"Online Ecommerce Store\"\n",
        "    prod_2 = \"Online Store\"\n",
        "    prod_3 = \"Online Buy Sell Store\"\n",
        "\n",
        "class Popularity(Products):        #grand_child_class\n",
        "    prod_1_popularity = 100\n",
        "    prod_2_popularity = 70\n",
        "    prod_3_popularity = 60\n",
        "    \n",
        "    \n",
        "obj_1 = Popularity()          #Object_creation\n",
        "print(obj_1.brand_name_1+\" is an \"+obj_1.prod_1+\" popularity of \"+str(obj_1.prod_1_popularity))\n",
        "print(obj_1.brand_name_2+\" is an \"+obj_1.prod_2+\" popularity of \"+str(obj_1.prod_2_popularity))\n",
        "print(obj_1.brand_name_3+\" is an \"+obj_1.prod_3+\" popularity of \"+str(obj_1.prod_3_popularity))"
      ]
    }
  ]
}