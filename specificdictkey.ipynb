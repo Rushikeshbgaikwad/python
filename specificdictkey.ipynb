{
  "nbformat": 4,
  "nbformat_minor": 0,
  "metadata": {
    "colab": {
      "name": "specificdictkey",
      "provenance": [],
      "collapsed_sections": [],
      "include_colab_link": true
    },
    "kernelspec": {
      "name": "python3",
      "display_name": "Python 3"
    },
    "language_info": {
      "name": "python"
    }
  },
  "cells": [
    {
      "cell_type": "markdown",
      "metadata": {
        "id": "view-in-github",
        "colab_type": "text"
      },
      "source": [
        "<a href=\"https://colab.research.google.com/github/Rushikeshbgaikwad/python/blob/main/specificdictkey.ipynb\" target=\"_parent\"><img src=\"https://colab.research.google.com/assets/colab-badge.svg\" alt=\"Open In Colab\"/></a>"
      ]
    },
    {
      "cell_type": "code",
      "execution_count": null,
      "metadata": {
        "colab": {
          "base_uri": "https://localhost:8080/"
        },
        "id": "PuhKDQ7C8dtw",
        "outputId": "55dec624-ea5c-4602-85a0-0e5e6cd74159"
      },
      "outputs": [
        {
          "output_type": "stream",
          "name": "stdout",
          "text": [
            "\n",
            "Original dictionary:\n",
            "[{'student_id': 1, 'name': 'Jean Castro', 'class': 'V'}, {'student_id': 2, 'name': 'Lula Powell', 'class': 'V'}, {'student_id': 3, 'name': 'Brian Howell', 'class': 'VI'}, {'student_id': 4, 'name': 'Lynne Foster', 'class': 'VI'}, {'student_id': 5, 'name': 'Zachary Simon', 'class': 'VII'}]\n",
            "\n",
            "Check if a specific Key and a value exist in the said dictionary:\n",
            "True\n",
            "True\n",
            "True\n",
            "False\n",
            "False\n",
            "False\n"
          ]
        }
      ],
      "source": [
        "'''Write a Python program to check if a specific Key and a value exist in a dictionary. \n",
        "Original dictionary:\n",
        "[{'student_id': 1, 'name': 'Jean Castro', 'class': 'V'}, {'student_id': 2, 'name': 'Lula Powell', 'class': 'V'}, {'student_id': 3, 'name': 'Brian Howell', 'class': 'VI'}, {'student_id': 4, 'name': 'Lynne Foster', 'class': 'VI'}, {'student_id': 5, 'name': 'Zachary Simon', 'class': 'VII'}]\n",
        "Check if a specific Key and a value exist in the said dictionary:\n",
        "True\n",
        "True\n",
        "True\n",
        "False\n",
        "False\n",
        "False'''\n",
        "def test(dictt, key, value):\n",
        "   if any(sub[key] == value for sub in dictt):\n",
        "       return True\n",
        "   return False\n",
        "\n",
        "students = [\n",
        "        {'student_id': 1, 'name': 'Jean Castro', 'class': 'V'}, \n",
        "        {'student_id': 2, 'name': 'Lula Powell', 'class': 'V'},\n",
        "        {'student_id': 3, 'name': 'Brian Howell', 'class': 'VI'}, \n",
        "        {'student_id': 4, 'name': 'Lynne Foster', 'class': 'VI'}, \n",
        "        {'student_id': 5, 'name': 'Zachary Simon', 'class': 'VII'}\n",
        "        ]\n",
        "\n",
        "\n",
        "print(\"\\nOriginal dictionary:\")\n",
        "print(students)\n",
        "print(\"\\nCheck if a specific Key and a value exist in the said dictionary:\")\n",
        "print(test(students,'student_id', 1))\n",
        "print(test(students,'name', 'Brian Howell'))\n",
        "print(test(students,'class', 'VII'))\n",
        "print(test(students,'class', 'I'))\n",
        "print(test(students,'name', 'Brian Howelll'))\n",
        "print(test(students,'student_id', 11))\n"
      ]
    }
  ]
}