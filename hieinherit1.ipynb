{
  "nbformat": 4,
  "nbformat_minor": 0,
  "metadata": {
    "colab": {
      "name": "hieinherit1.ipynb",
      "provenance": [],
      "collapsed_sections": [],
      "include_colab_link": true
    },
    "kernelspec": {
      "name": "python3",
      "display_name": "Python 3"
    },
    "language_info": {
      "name": "python"
    }
  },
  "cells": [
    {
      "cell_type": "markdown",
      "metadata": {
        "id": "view-in-github",
        "colab_type": "text"
      },
      "source": [
        "<a href=\"https://colab.research.google.com/github/Rushikeshbgaikwad/python/blob/main/hieinherit1.ipynb\" target=\"_parent\"><img src=\"https://colab.research.google.com/assets/colab-badge.svg\" alt=\"Open In Colab\"/></a>"
      ]
    },
    {
      "cell_type": "code",
      "execution_count": null,
      "metadata": {
        "colab": {
          "base_uri": "https://localhost:8080/"
        },
        "id": "Sw4dCz2Y8VRV",
        "outputId": "0c0b2672-b375-428f-d2a2-7d3f99d59f23"
      },
      "outputs": [
        {
          "output_type": "stream",
          "name": "stdout",
          "text": [
            "Amazon is an Excellent Value\n",
            "Amazon is an Better Value\n",
            "Amazon is an Good Value\n"
          ]
        }
      ],
      "source": [
        "'''syntax_of_hierarchical_inheritance\n",
        "\n",
        "class A:                  #parent_class\n",
        "    pass\n",
        "    \n",
        "class B(A):               #child_class\n",
        "    pass\n",
        "\n",
        "class C(A):               #child_class\n",
        "    pass\n",
        "\n",
        "class D(A):               #child_class\n",
        "    pass\n",
        "\n",
        "obj_1 = B()       #Object_creation\n",
        "obj_2 = C()\n",
        "obj_3 = D()'''\n",
        "\n",
        "class Brands:                      #parent_class\n",
        "    brand_name_1 = \"Amazon\"\n",
        "    brand_name_2 = \"Ebay\"\n",
        "    brand_name_3 = \"OLX\"\n",
        "    \n",
        "class Products(Brands):            #child_class\n",
        "    prod_1 = \"Online Ecommerce Store\"\n",
        "    prod_2 = \"Online Store\"\n",
        "    prod_3 = \"Online Buy Sell Store\"\n",
        "\n",
        "class Popularity(Brands):        #grand_child_class\n",
        "    prod_1_popularity = 100\n",
        "    prod_2_popularity = 70\n",
        "    prod_3_popularity = 60\n",
        "\n",
        "class Value(Brands):\n",
        "    prod_1_value = \"Excellent Value\"\n",
        "    prod_2_value = \"Better Value\"\n",
        "    prod_3_value = \"Good Value\"\n",
        "    \n",
        "obj_1 = Products()          #Object_creation\n",
        "obj_2 = Popularity()\n",
        "obj_3 = Value()\n",
        "print(obj_1.brand_name_1+\" is an \"+obj_3.prod_1_value)\n",
        "print(obj_2.brand_name_1+\" is an \"+obj_3.prod_2_value)\n",
        "print(obj_1.brand_name_1+\" is an \"+obj_3.prod_3_value)"
      ]
    }
  ]
}