{
  "nbformat": 4,
  "nbformat_minor": 0,
  "metadata": {
    "colab": {
      "name": "reduceandfilter",
      "provenance": [],
      "include_colab_link": true
    },
    "kernelspec": {
      "name": "python3",
      "display_name": "Python 3"
    },
    "language_info": {
      "name": "python"
    }
  },
  "cells": [
    {
      "cell_type": "markdown",
      "metadata": {
        "id": "view-in-github",
        "colab_type": "text"
      },
      "source": [
        "<a href=\"https://colab.research.google.com/github/Rushikeshbgaikwad/python/blob/main/reduceandfilter.ipynb\" target=\"_parent\"><img src=\"https://colab.research.google.com/assets/colab-badge.svg\" alt=\"Open In Colab\"/></a>"
      ]
    },
    {
      "cell_type": "code",
      "metadata": {
        "id": "J-_iDkVoF3ro"
      },
      "source": [
        "def myreduce(func,values):\n",
        "  result=values[0]\n",
        "  for i in values[:]:\n",
        "    result=func(result,i)\n",
        "  return result"
      ],
      "execution_count": null,
      "outputs": []
    },
    {
      "cell_type": "code",
      "metadata": {
        "id": "yOb3mdzfGV8u"
      },
      "source": [
        "def func(a,b):\n",
        "  return a * b"
      ],
      "execution_count": null,
      "outputs": []
    },
    {
      "cell_type": "code",
      "metadata": {
        "colab": {
          "base_uri": "https://localhost:8080/"
        },
        "id": "zBg5SvSkGfvc",
        "outputId": "e9d90953-6f87-4492-cb18-4bcaa2c02139"
      },
      "source": [
        "l=[2,3,4,5,6,7,8,9]\n",
        "print(f\"my reduce output is:{myreduce(func,l)}\")"
      ],
      "execution_count": null,
      "outputs": [
        {
          "output_type": "stream",
          "name": "stdout",
          "text": [
            "my reduce output is:725760\n"
          ]
        }
      ]
    },
    {
      "cell_type": "code",
      "metadata": {
        "id": "9euXwlBQHmnn"
      },
      "source": [
        "#myfilter()\n",
        "def myfilter(funct,values):\n",
        "  result=list()\n",
        "  for i in values:\n",
        "    if funct(i):\n",
        "      result.append(i)\n",
        "  return result"
      ],
      "execution_count": null,
      "outputs": []
    },
    {
      "cell_type": "code",
      "metadata": {
        "id": "Ty4T4GSEIJRd"
      },
      "source": [
        "def funct(x):\n",
        "  if x%5== 0:\n",
        "    return True\n",
        "  else:\n",
        "    return False"
      ],
      "execution_count": null,
      "outputs": []
    },
    {
      "cell_type": "code",
      "metadata": {
        "colab": {
          "base_uri": "https://localhost:8080/"
        },
        "id": "tLRq-ya4IeWX",
        "outputId": "ccadf90f-6945-43b7-cf17-2490ab836ce9"
      },
      "source": [
        "lst=[10,15,60,34,53]\n",
        "print(f\"my filter output is:{list(myfilter(funct,lst))}\")"
      ],
      "execution_count": null,
      "outputs": [
        {
          "output_type": "stream",
          "name": "stdout",
          "text": [
            "my filter output is:[10, 15, 60]\n"
          ]
        }
      ]
    }
  ]
}