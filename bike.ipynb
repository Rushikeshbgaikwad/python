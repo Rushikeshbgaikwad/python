{
  "nbformat": 4,
  "nbformat_minor": 0,
  "metadata": {
    "colab": {
      "name": "bike.ipynb",
      "provenance": [],
      "include_colab_link": true
    },
    "kernelspec": {
      "name": "python3",
      "display_name": "Python 3"
    },
    "language_info": {
      "name": "python"
    }
  },
  "cells": [
    {
      "cell_type": "markdown",
      "metadata": {
        "id": "view-in-github",
        "colab_type": "text"
      },
      "source": [
        "<a href=\"https://colab.research.google.com/github/Rushikeshbgaikwad/python/blob/main/bike.ipynb\" target=\"_parent\"><img src=\"https://colab.research.google.com/assets/colab-badge.svg\" alt=\"Open In Colab\"/></a>"
      ]
    },
    {
      "cell_type": "code",
      "execution_count": 1,
      "metadata": {
        "id": "QF310n_IYAH8"
      },
      "outputs": [],
      "source": [
        "class Bike:\n",
        "  pass"
      ]
    },
    {
      "cell_type": "code",
      "source": [
        "bike1=Bike()\n",
        "bike1.name=('activa')\n",
        "bike1.color=('grey')\n",
        "bike1.enginetype=('petrol')\n",
        "print(bike1)\n",
        "print(bike1.name)\n",
        "print(bike1.color)\n",
        "print(bike1.enginetype)"
      ],
      "metadata": {
        "colab": {
          "base_uri": "https://localhost:8080/"
        },
        "id": "JMUhWuaxYTuG",
        "outputId": "617a6d74-cb42-4490-9b7c-04400d408cec"
      },
      "execution_count": 2,
      "outputs": [
        {
          "output_type": "stream",
          "name": "stdout",
          "text": [
            "<__main__.Bike object at 0x7fdbb4bdbd50>\n",
            "activa\n",
            "grey\n",
            "petrol\n"
          ]
        }
      ]
    },
    {
      "cell_type": "code",
      "source": [
        "bike2=Bike()\n",
        "bike2.name=('jupyter')\n",
        "bike2.color=('black')\n",
        "bike2.enginetype=('battery')\n",
        "print(bike2)\n",
        "print(bike2.name)\n",
        "print(bike2.color)\n",
        "print(bike2.enginetype)"
      ],
      "metadata": {
        "colab": {
          "base_uri": "https://localhost:8080/"
        },
        "id": "qCukxveuZQ9Y",
        "outputId": "6a0b6b4b-8b69-434c-f36c-a8526530dc88"
      },
      "execution_count": 3,
      "outputs": [
        {
          "output_type": "stream",
          "name": "stdout",
          "text": [
            "<__main__.Bike object at 0x7fdbb4bdbbd0>\n",
            "jupyter\n",
            "black\n",
            "battery\n"
          ]
        }
      ]
    }
  ]
}