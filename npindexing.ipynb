{
  "nbformat": 4,
  "nbformat_minor": 0,
  "metadata": {
    "colab": {
      "name": "npindexing",
      "provenance": [],
      "collapsed_sections": [],
      "include_colab_link": true
    },
    "kernelspec": {
      "name": "python3",
      "display_name": "Python 3"
    },
    "language_info": {
      "name": "python"
    }
  },
  "cells": [
    {
      "cell_type": "markdown",
      "metadata": {
        "id": "view-in-github",
        "colab_type": "text"
      },
      "source": [
        "<a href=\"https://colab.research.google.com/github/Rushikeshbgaikwad/python/blob/main/npindexing.ipynb\" target=\"_parent\"><img src=\"https://colab.research.google.com/assets/colab-badge.svg\" alt=\"Open In Colab\"/></a>"
      ]
    },
    {
      "cell_type": "code",
      "metadata": {
        "colab": {
          "base_uri": "https://localhost:8080/"
        },
        "id": "McuZJlw0lfD5",
        "outputId": "fc41148b-8bc7-423e-a15a-29656ee40d00"
      },
      "source": [
        "#Write a NumPy program to find the index of the sliced elements as follows from a given 4x4 array.\n",
        "import numpy as np    \n",
        "x = np.reshape(np.arange(16),(4,4))\n",
        "print(\"Original arrays:\")\n",
        "print(x)\n",
        "print(\"Sliced elements:\")\n",
        "result = x[[0,1,2],[0,1,3]]\n",
        "print(result)"
      ],
      "execution_count": null,
      "outputs": [
        {
          "output_type": "stream",
          "name": "stdout",
          "text": [
            "Original arrays:\n",
            "[[ 0  1  2  3]\n",
            " [ 4  5  6  7]\n",
            " [ 8  9 10 11]\n",
            " [12 13 14 15]]\n",
            "Sliced elements:\n",
            "[ 0  5 11]\n"
          ]
        }
      ]
    }
  ]
}