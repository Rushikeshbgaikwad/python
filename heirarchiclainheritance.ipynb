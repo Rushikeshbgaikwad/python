{
  "nbformat": 4,
  "nbformat_minor": 0,
  "metadata": {
    "colab": {
      "name": "heirarchiclainheritance",
      "provenance": [],
      "include_colab_link": true
    },
    "kernelspec": {
      "name": "python3",
      "display_name": "Python 3"
    },
    "language_info": {
      "name": "python"
    }
  },
  "cells": [
    {
      "cell_type": "markdown",
      "metadata": {
        "id": "view-in-github",
        "colab_type": "text"
      },
      "source": [
        "<a href=\"https://colab.research.google.com/github/Rushikeshbgaikwad/python/blob/main/heirarchiclainheritance.ipynb\" target=\"_parent\"><img src=\"https://colab.research.google.com/assets/colab-badge.svg\" alt=\"Open In Colab\"/></a>"
      ]
    },
    {
      "cell_type": "code",
      "metadata": {
        "colab": {
          "base_uri": "https://localhost:8080/"
        },
        "id": "cpSxj9DSS_mp",
        "outputId": "8748c6e7-d71b-417b-d169-fc325fedc122"
      },
      "source": [
        "# Python program to demonstrate\n",
        "# Hierarchical inheritance\n",
        " \n",
        " \n",
        "# Base class\n",
        "class Parent:\n",
        "      def func1(self):\n",
        "          print(\"This function is in parent class.\")\n",
        " \n",
        "# Derived class1\n",
        "class Child1(Parent):\n",
        "      def func2(self):\n",
        "          print(\"This function is in child 1.\")\n",
        " \n",
        "# Derivied class2\n",
        "class Child2(Parent):\n",
        "      def func3(self):\n",
        "          print(\"This function is in child 2.\")\n",
        "  \n",
        "# Driver's code\n",
        "object1 = Child1()\n",
        "object2 = Child2()\n",
        "object1.func1()\n",
        "object1.func2()\n",
        "object2.func1()\n",
        "object2.func3()"
      ],
      "execution_count": null,
      "outputs": [
        {
          "output_type": "stream",
          "name": "stdout",
          "text": [
            "This function is in parent class.\n",
            "This function is in child 1.\n",
            "This function is in parent class.\n",
            "This function is in child 2.\n"
          ]
        }
      ]
    }
  ]
}