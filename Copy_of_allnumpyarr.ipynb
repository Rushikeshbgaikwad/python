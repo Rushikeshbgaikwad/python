{
  "nbformat": 4,
  "nbformat_minor": 0,
  "metadata": {
    "colab": {
      "name": "Copy of allnumpyarr",
      "provenance": [],
      "include_colab_link": true
    },
    "kernelspec": {
      "name": "python3",
      "display_name": "Python 3"
    },
    "language_info": {
      "name": "python"
    }
  },
  "cells": [
    {
      "cell_type": "markdown",
      "metadata": {
        "id": "view-in-github",
        "colab_type": "text"
      },
      "source": [
        "<a href=\"https://colab.research.google.com/github/Rushikeshbgaikwad/python/blob/main/Copy_of_allnumpyarr.ipynb\" target=\"_parent\"><img src=\"https://colab.research.google.com/assets/colab-badge.svg\" alt=\"Open In Colab\"/></a>"
      ]
    },
    {
      "cell_type": "code",
      "metadata": {
        "colab": {
          "base_uri": "https://localhost:8080/"
        },
        "id": "GTN2lXrEjk7m",
        "outputId": "96272a36-ff6e-45a7-c231-f73573f19ce3"
      },
      "source": [
        "'''Numpy is a general purpose array-processing package.It provides a high performance multidimenssional array object and tools for working with\n",
        "these array.It is the fundamental package for scientific computing with python'''\n",
        "'''Array is a data structure that stores values of same data type.In python the main difference between arrays and lists,python lists can contain values to\n",
        "corresponding to different data types,arrays in python can only contain values corresponding to same data type.'''\n",
        "import numpy as np\n",
        "my_list=[1,2,3,4,5]\n",
        "arr=np.array(my_list)\n",
        "type(arr)\n",
        "print(arr)"
      ],
      "execution_count": null,
      "outputs": [
        {
          "output_type": "stream",
          "name": "stdout",
          "text": [
            "[1 2 3 4 5]\n"
          ]
        }
      ]
    },
    {
      "cell_type": "code",
      "metadata": {
        "colab": {
          "base_uri": "https://localhost:8080/"
        },
        "id": "fCaPfOrXl_-r",
        "outputId": "e297997f-2b36-4368-cf9d-2bedbfcdaaba"
      },
      "source": [
        "arr.shape"
      ],
      "execution_count": null,
      "outputs": [
        {
          "output_type": "execute_result",
          "data": {
            "text/plain": [
              "(5,)"
            ]
          },
          "metadata": {},
          "execution_count": 4
        }
      ]
    },
    {
      "cell_type": "code",
      "metadata": {
        "colab": {
          "base_uri": "https://localhost:8080/"
        },
        "id": "WJriW-lCmG8n",
        "outputId": "cc12c830-24c6-4ff4-ade7-3ac1a113f6ef"
      },
      "source": [
        "#multidimenssional array\n",
        "my_list1=[1,3,4,5,2]\n",
        "my_list2=[3,4,5,6,7]\n",
        "my_list3=[6,7,8,9,1]\n",
        "arr=np.array([my_list1,my_list2,my_list3])\n",
        "arr"
      ],
      "execution_count": null,
      "outputs": [
        {
          "output_type": "execute_result",
          "data": {
            "text/plain": [
              "array([[1, 3, 4, 5, 2],\n",
              "       [3, 4, 5, 6, 7],\n",
              "       [6, 7, 8, 9, 1]])"
            ]
          },
          "metadata": {},
          "execution_count": 5
        }
      ]
    },
    {
      "cell_type": "code",
      "metadata": {
        "colab": {
          "base_uri": "https://localhost:8080/"
        },
        "id": "mFxc91RnnAUE",
        "outputId": "4fdd0200-162b-46f4-d481-08dd1cff6ddc"
      },
      "source": [
        "arr.shape"
      ],
      "execution_count": null,
      "outputs": [
        {
          "output_type": "execute_result",
          "data": {
            "text/plain": [
              "(3, 5)"
            ]
          },
          "metadata": {},
          "execution_count": 6
        }
      ]
    },
    {
      "cell_type": "code",
      "metadata": {
        "colab": {
          "base_uri": "https://localhost:8080/"
        },
        "id": "F-F3wHAhnHv3",
        "outputId": "f1993500-5d85-42dc-8d6b-d5292e5fa0d4"
      },
      "source": [
        "arr.reshape(5,3)"
      ],
      "execution_count": null,
      "outputs": [
        {
          "output_type": "execute_result",
          "data": {
            "text/plain": [
              "array([[1, 3, 4],\n",
              "       [5, 2, 3],\n",
              "       [4, 5, 6],\n",
              "       [7, 6, 7],\n",
              "       [8, 9, 1]])"
            ]
          },
          "metadata": {},
          "execution_count": 7
        }
      ]
    },
    {
      "cell_type": "code",
      "metadata": {
        "colab": {
          "base_uri": "https://localhost:8080/"
        },
        "id": "eCEto6YinS05",
        "outputId": "38a573df-5c9d-48dd-d363-c4f44566f6b1"
      },
      "source": [
        "arr.shape"
      ],
      "execution_count": null,
      "outputs": [
        {
          "output_type": "execute_result",
          "data": {
            "text/plain": [
              "(3, 5)"
            ]
          },
          "metadata": {},
          "execution_count": 7
        }
      ]
    },
    {
      "cell_type": "code",
      "metadata": {
        "colab": {
          "base_uri": "https://localhost:8080/"
        },
        "id": "3SGCO15jnexj",
        "outputId": "aabf89d6-3e4f-4aff-c335-e2b487546c7f"
      },
      "source": [
        "#indexing\n",
        "#Accessing the array elements\n",
        "arr"
      ],
      "execution_count": null,
      "outputs": [
        {
          "output_type": "execute_result",
          "data": {
            "text/plain": [
              "array([[1, 3, 4, 5, 2],\n",
              "       [3, 4, 5, 6, 7],\n",
              "       [6, 7, 8, 9, 1]])"
            ]
          },
          "metadata": {},
          "execution_count": 8
        }
      ]
    },
    {
      "cell_type": "code",
      "metadata": {
        "colab": {
          "base_uri": "https://localhost:8080/"
        },
        "id": "qEWHzrv8nq5O",
        "outputId": "6fb08e89-d32f-43d6-bd31-13787b5ef08e"
      },
      "source": [
        "#arr=np.array([1,2,3,4,5,6,7,8,9])\n",
        "#arr[3]"
      ],
      "execution_count": null,
      "outputs": [
        {
          "output_type": "execute_result",
          "data": {
            "text/plain": [
              "4"
            ]
          },
          "metadata": {},
          "execution_count": 11
        }
      ]
    },
    {
      "cell_type": "code",
      "metadata": {
        "colab": {
          "base_uri": "https://localhost:8080/"
        },
        "id": "Z0mWSSyCn8Bu",
        "outputId": "e80e2c05-c724-4a41-abd8-802df096b85a"
      },
      "source": [
        "#arr\n",
        "arr\n"
      ],
      "execution_count": null,
      "outputs": [
        {
          "output_type": "execute_result",
          "data": {
            "text/plain": [
              "array([1, 2, 3, 4, 5, 6, 7, 8, 9])"
            ]
          },
          "metadata": {},
          "execution_count": 13
        }
      ]
    },
    {
      "cell_type": "code",
      "metadata": {
        "colab": {
          "base_uri": "https://localhost:8080/"
        },
        "id": "YU7q87WmobT2",
        "outputId": "3919ce1a-6629-43ab-ef22-8ddea396465b"
      },
      "source": [
        "arr=np.array([[1,2,3,4,5],\n",
        "             [2,3,4,5,6],\n",
        "             [9,7,6,8,9]])\n",
        "arr"
      ],
      "execution_count": null,
      "outputs": [
        {
          "output_type": "execute_result",
          "data": {
            "text/plain": [
              "array([[1, 2, 3, 4, 5],\n",
              "       [2, 3, 4, 5, 6],\n",
              "       [9, 7, 6, 8, 9]])"
            ]
          },
          "metadata": {},
          "execution_count": 16
        }
      ]
    },
    {
      "cell_type": "code",
      "metadata": {
        "colab": {
          "base_uri": "https://localhost:8080/"
        },
        "id": "RcDU6EebpL0e",
        "outputId": "d54df96f-1b9c-411a-ca01-e97a32943818"
      },
      "source": [
        "arr[:,:]"
      ],
      "execution_count": null,
      "outputs": [
        {
          "output_type": "execute_result",
          "data": {
            "text/plain": [
              "array([[1, 2, 3, 4, 5],\n",
              "       [2, 3, 4, 5, 6],\n",
              "       [9, 7, 6, 8, 9]])"
            ]
          },
          "metadata": {},
          "execution_count": 17
        }
      ]
    },
    {
      "cell_type": "code",
      "metadata": {
        "colab": {
          "base_uri": "https://localhost:8080/"
        },
        "id": "ezW8fRBTpWK1",
        "outputId": "b5802d10-e72d-4f73-ebf7-e23590e972ef"
      },
      "source": [
        "arr[0:2,:]"
      ],
      "execution_count": null,
      "outputs": [
        {
          "output_type": "execute_result",
          "data": {
            "text/plain": [
              "array([[1, 2, 3, 4, 5],\n",
              "       [2, 3, 4, 5, 6]])"
            ]
          },
          "metadata": {},
          "execution_count": 18
        }
      ]
    },
    {
      "cell_type": "code",
      "metadata": {
        "colab": {
          "base_uri": "https://localhost:8080/"
        },
        "id": "VQoWBa3kpf92",
        "outputId": "bc2889d7-748a-423c-eef8-8b3cd1200091"
      },
      "source": [
        "arr[:2,0:2]"
      ],
      "execution_count": null,
      "outputs": [
        {
          "output_type": "execute_result",
          "data": {
            "text/plain": [
              "array([[1, 2],\n",
              "       [2, 3]])"
            ]
          },
          "metadata": {},
          "execution_count": 19
        }
      ]
    },
    {
      "cell_type": "code",
      "metadata": {
        "colab": {
          "base_uri": "https://localhost:8080/"
        },
        "id": "H4J3UU6CpqlO",
        "outputId": "1eb2d4ff-d74f-4c73-db60-2f2422fe3bda"
      },
      "source": [
        "arr[:1,]"
      ],
      "execution_count": null,
      "outputs": [
        {
          "output_type": "execute_result",
          "data": {
            "text/plain": [
              "array([[1, 2, 3, 4, 5]])"
            ]
          },
          "metadata": {},
          "execution_count": 20
        }
      ]
    },
    {
      "cell_type": "code",
      "metadata": {
        "colab": {
          "base_uri": "https://localhost:8080/"
        },
        "id": "rHMLVr2spwzu",
        "outputId": "ec68825f-27ea-457a-f6ab-00d87eb3a078"
      },
      "source": [
        "arr[1:,3:]"
      ],
      "execution_count": null,
      "outputs": [
        {
          "output_type": "execute_result",
          "data": {
            "text/plain": [
              "array([[5, 6],\n",
              "       [8, 9]])"
            ]
          },
          "metadata": {},
          "execution_count": 21
        }
      ]
    },
    {
      "cell_type": "code",
      "metadata": {
        "colab": {
          "base_uri": "https://localhost:8080/"
        },
        "id": "kLHeIZbhp6wg",
        "outputId": "5c2a91a7-b27b-4eef-a9b8-165df39dc48f"
      },
      "source": [
        "arr=np.arange(0,10)\n",
        "arr"
      ],
      "execution_count": null,
      "outputs": [
        {
          "output_type": "execute_result",
          "data": {
            "text/plain": [
              "array([0, 1, 2, 3, 4, 5, 6, 7, 8, 9])"
            ]
          },
          "metadata": {},
          "execution_count": 23
        }
      ]
    },
    {
      "cell_type": "code",
      "metadata": {
        "colab": {
          "base_uri": "https://localhost:8080/"
        },
        "id": "VAqys0a9qT5H",
        "outputId": "1575a563-3224-4c93-c165-d6f574d8c050"
      },
      "source": [
        "np.linspace(1,10,50)"
      ],
      "execution_count": null,
      "outputs": [
        {
          "output_type": "execute_result",
          "data": {
            "text/plain": [
              "array([ 1.        ,  1.18367347,  1.36734694,  1.55102041,  1.73469388,\n",
              "        1.91836735,  2.10204082,  2.28571429,  2.46938776,  2.65306122,\n",
              "        2.83673469,  3.02040816,  3.20408163,  3.3877551 ,  3.57142857,\n",
              "        3.75510204,  3.93877551,  4.12244898,  4.30612245,  4.48979592,\n",
              "        4.67346939,  4.85714286,  5.04081633,  5.2244898 ,  5.40816327,\n",
              "        5.59183673,  5.7755102 ,  5.95918367,  6.14285714,  6.32653061,\n",
              "        6.51020408,  6.69387755,  6.87755102,  7.06122449,  7.24489796,\n",
              "        7.42857143,  7.6122449 ,  7.79591837,  7.97959184,  8.16326531,\n",
              "        8.34693878,  8.53061224,  8.71428571,  8.89795918,  9.08163265,\n",
              "        9.26530612,  9.44897959,  9.63265306,  9.81632653, 10.        ])"
            ]
          },
          "metadata": {},
          "execution_count": 7
        }
      ]
    },
    {
      "cell_type": "code",
      "metadata": {
        "colab": {
          "base_uri": "https://localhost:8080/"
        },
        "id": "53Uv8Vm3qsCO",
        "outputId": "1184c14a-a6aa-47e6-db4e-142df2ad5ad2"
      },
      "source": [
        "#copy function and broadcasting\n",
        "arr[2:]=500\n",
        "arr"
      ],
      "execution_count": null,
      "outputs": [
        {
          "output_type": "execute_result",
          "data": {
            "text/plain": [
              "array([  1,   2, 500, 500, 500])"
            ]
          },
          "metadata": {},
          "execution_count": 14
        }
      ]
    },
    {
      "cell_type": "code",
      "metadata": {
        "id": "Uu75_1-grJ5x"
      },
      "source": [
        "arr1=arr"
      ],
      "execution_count": null,
      "outputs": []
    },
    {
      "cell_type": "code",
      "metadata": {
        "colab": {
          "base_uri": "https://localhost:8080/"
        },
        "id": "WFgYr--crOkY",
        "outputId": "286df1b9-8a8f-46d0-ce22-42cd7a267203"
      },
      "source": [
        "arr1[2:]=500\n",
        "print(arr1)"
      ],
      "execution_count": null,
      "outputs": [
        {
          "output_type": "stream",
          "name": "stdout",
          "text": [
            "[  1   2 500 500 500]\n"
          ]
        }
      ]
    },
    {
      "cell_type": "code",
      "metadata": {
        "colab": {
          "base_uri": "https://localhost:8080/"
        },
        "id": "V2_dtOUyrb8P",
        "outputId": "3bbc2d61-9388-4eab-80b8-df2e66714408"
      },
      "source": [
        "arr"
      ],
      "execution_count": null,
      "outputs": [
        {
          "output_type": "execute_result",
          "data": {
            "text/plain": [
              "array([  1,   2, 500, 500, 500])"
            ]
          },
          "metadata": {},
          "execution_count": 17
        }
      ]
    },
    {
      "cell_type": "code",
      "metadata": {
        "colab": {
          "base_uri": "https://localhost:8080/"
        },
        "id": "DHTlB7ecrpRK",
        "outputId": "8e91ae9f-6775-40c9-8c25-8575f4d08945"
      },
      "source": [
        "#array is a reference type\n",
        "#integers are a value type\n",
        "arr1=arr.copy()\n",
        "print(arr)\n",
        "arr1[3:]=1000\n",
        "print(arr1)"
      ],
      "execution_count": null,
      "outputs": [
        {
          "output_type": "stream",
          "name": "stdout",
          "text": [
            "[  1   2 500 500 500]\n",
            "[   1    2  500 1000 1000]\n"
          ]
        }
      ]
    },
    {
      "cell_type": "code",
      "metadata": {
        "colab": {
          "base_uri": "https://localhost:8080/"
        },
        "id": "sGm_T3BfsKfy",
        "outputId": "58adbdfb-fe1a-4c24-a8e4-ea0e178bb636"
      },
      "source": [
        "arr"
      ],
      "execution_count": null,
      "outputs": [
        {
          "output_type": "execute_result",
          "data": {
            "text/plain": [
              "array([  1,   2, 500, 500, 500])"
            ]
          },
          "metadata": {},
          "execution_count": 19
        }
      ]
    },
    {
      "cell_type": "code",
      "metadata": {
        "colab": {
          "base_uri": "https://localhost:8080/"
        },
        "id": "wL6vJXVnsXXh",
        "outputId": "fe10f082-867d-4e10-e2d9-05b7d17942d3"
      },
      "source": [
        "#some conditions very useful in Exploratory Data Analysis\n",
        "val=2\n",
        "arr<2"
      ],
      "execution_count": null,
      "outputs": [
        {
          "output_type": "execute_result",
          "data": {
            "text/plain": [
              "array([ True, False, False, False, False])"
            ]
          },
          "metadata": {},
          "execution_count": 20
        }
      ]
    },
    {
      "cell_type": "code",
      "metadata": {
        "colab": {
          "base_uri": "https://localhost:8080/"
        },
        "id": "X4tNlWG4s0OR",
        "outputId": "fa9ac672-385b-4150-9ca1-7e350b948207"
      },
      "source": [
        "val=2\n",
        "arr*2"
      ],
      "execution_count": null,
      "outputs": [
        {
          "output_type": "execute_result",
          "data": {
            "text/plain": [
              "array([   2,    4, 1000, 1000, 1000])"
            ]
          },
          "metadata": {},
          "execution_count": 21
        }
      ]
    },
    {
      "cell_type": "code",
      "metadata": {
        "colab": {
          "base_uri": "https://localhost:8080/"
        },
        "id": "n7X_80qXs7VA",
        "outputId": "3ab17b3b-e094-4712-9c4e-224fbcde50a3"
      },
      "source": [
        "##create arrays and reshape\n",
        "np.arange(0,10).reshape(5,2)"
      ],
      "execution_count": null,
      "outputs": [
        {
          "output_type": "execute_result",
          "data": {
            "text/plain": [
              "array([[0, 1],\n",
              "       [2, 3],\n",
              "       [4, 5],\n",
              "       [6, 7],\n",
              "       [8, 9]])"
            ]
          },
          "metadata": {},
          "execution_count": 24
        }
      ]
    },
    {
      "cell_type": "code",
      "metadata": {
        "colab": {
          "base_uri": "https://localhost:8080/"
        },
        "id": "ZhBNFgQhtQhn",
        "outputId": "97b8c8f8-cc19-46eb-c418-938775d304b3"
      },
      "source": [
        "np.ones(4)"
      ],
      "execution_count": null,
      "outputs": [
        {
          "output_type": "execute_result",
          "data": {
            "text/plain": [
              "array([1., 1., 1., 1.])"
            ]
          },
          "metadata": {},
          "execution_count": 25
        }
      ]
    },
    {
      "cell_type": "code",
      "metadata": {
        "colab": {
          "base_uri": "https://localhost:8080/"
        },
        "id": "LckpzWpTtxxT",
        "outputId": "a6b9b156-2795-4ce8-d36d-4fb1032c24ac"
      },
      "source": [
        "np.ones((2,5),dtype=int)"
      ],
      "execution_count": null,
      "outputs": [
        {
          "output_type": "execute_result",
          "data": {
            "text/plain": [
              "array([[1, 1, 1, 1, 1],\n",
              "       [1, 1, 1, 1, 1]])"
            ]
          },
          "metadata": {},
          "execution_count": 26
        }
      ]
    },
    {
      "cell_type": "code",
      "metadata": {
        "colab": {
          "base_uri": "https://localhost:8080/"
        },
        "id": "hxpFhIKruRcX",
        "outputId": "f513a901-d32d-4199-d848-b84ad3a5f5a9"
      },
      "source": [
        "#random distributions\n",
        "np.random.rand(3,3)"
      ],
      "execution_count": null,
      "outputs": [
        {
          "output_type": "execute_result",
          "data": {
            "text/plain": [
              "array([[0.51873499, 0.30069658, 0.1907528 ],\n",
              "       [0.97475634, 0.69316732, 0.31078485],\n",
              "       [0.27445291, 0.24467449, 0.23437915]])"
            ]
          },
          "metadata": {},
          "execution_count": 27
        }
      ]
    },
    {
      "cell_type": "code",
      "metadata": {
        "colab": {
          "base_uri": "https://localhost:8080/"
        },
        "id": "ZclyW6eBurGq",
        "outputId": "1a919f75-5af8-4077-be45-add1ffba070e"
      },
      "source": [
        "arr_ex=np.random.randn(4,4)#standard normal distribution\n",
        "arr_ex"
      ],
      "execution_count": null,
      "outputs": [
        {
          "output_type": "execute_result",
          "data": {
            "text/plain": [
              "array([[ 0.89372264,  0.1600498 , -0.40029819, -0.08850917],\n",
              "       [ 1.02152868,  0.0870016 ,  0.3420088 ,  0.34222818],\n",
              "       [ 0.21567956,  1.13109309,  0.16373666, -0.13689816],\n",
              "       [-0.87173384, -0.4978628 , -2.4513166 ,  0.72913594]])"
            ]
          },
          "metadata": {},
          "execution_count": 28
        }
      ]
    },
    {
      "cell_type": "code",
      "metadata": {
        "colab": {
          "base_uri": "https://localhost:8080/"
        },
        "id": "2SOApD2KvGd2",
        "outputId": "ff8ed3d7-cc7b-418f-f15d-86b24a0d98de"
      },
      "source": [
        "np.random.randint(0,500,8).reshape(4,2)"
      ],
      "execution_count": null,
      "outputs": [
        {
          "output_type": "execute_result",
          "data": {
            "text/plain": [
              "array([[  0, 191],\n",
              "       [107, 445],\n",
              "       [285, 431],\n",
              "       [ 48, 209]])"
            ]
          },
          "metadata": {},
          "execution_count": 39
        }
      ]
    },
    {
      "cell_type": "code",
      "metadata": {
        "colab": {
          "base_uri": "https://localhost:8080/"
        },
        "id": "8aFL_ykIx3qB",
        "outputId": "dd9505de-453d-43d0-dea6-a3427d2a6ba1"
      },
      "source": [
        "np.random.random_sample((1,5))"
      ],
      "execution_count": null,
      "outputs": [
        {
          "output_type": "execute_result",
          "data": {
            "text/plain": [
              "array([[0.1413249 , 0.27514076, 0.0907728 , 0.04201235, 0.40955863]])"
            ]
          },
          "metadata": {},
          "execution_count": 41
        }
      ]
    },
    {
      "cell_type": "code",
      "metadata": {
        "id": "trMBONO0yPeE"
      },
      "source": [
        ""
      ],
      "execution_count": null,
      "outputs": []
    },
    {
      "cell_type": "code",
      "metadata": {
        "id": "Zq68DSY2rP2W"
      },
      "source": [
        ""
      ],
      "execution_count": null,
      "outputs": []
    },
    {
      "cell_type": "code",
      "metadata": {
        "id": "Uhl6VfCryAB8"
      },
      "source": [
        ""
      ],
      "execution_count": null,
      "outputs": []
    }
  ]
}